{
  "nbformat": 4,
  "nbformat_minor": 0,
  "metadata": {
    "colab": {
      "name": "Welcome To Colaboratory",
      "provenance": [],
      "collapsed_sections": [],
      "include_colab_link": true
    },
    "kernelspec": {
      "display_name": "Python 3",
      "name": "python3"
    }
  },
  "cells": [
    {
      "cell_type": "markdown",
      "metadata": {
        "id": "view-in-github",
        "colab_type": "text"
      },
      "source": [
        "<a href=\"https://colab.research.google.com/github/LDwise/web/blob/main/movie.ipynb?hl=en\" target=\"_parent\"><img src=\"https://colab.research.google.com/assets/colab-badge.svg\" alt=\"Open In Colab\"/></a>"
      ]
    },
    {
      "cell_type": "code",
      "metadata": {
        "id": "58gMr_sApwMA"
      },
      "source": [
        "#@title 爬取電影資源 { vertical-output: true, display-mode: \"form\" }\r\n",
        "# Movieffm //movieffm.net\r\n",
        "# http://www.135mov.com/\r\n",
        "# https://gimy.co/,https://777tv.net/\r\n",
        "# mode:https://video.friday.tw/\r\n",
        "# 原名,片長,產地,上映,簡介,劇照 https://zh.wikipedia.org/w/index.php?search={title}電影\r\n",
        "# 票房 https://www.boxofficemojo.com/search/?q={en-title}\r\n",
        "# IMDb評分 https://www.imdb.com/find?q={en-title}\r\n",
        "# 豆瓣評分,分類,IMDb鏈接 https://search.douban.com/movie/subject_search?search_text={title}\r\n",
        "#@markdown 流程:\r\n",
        "#@markdown 1. 電影缐上看網站==>劇照,標題,m3u8\r\n",
        "#@markdown 2. wiki搜索標題==>劇照,原名,上映,導演,主演,產地,片長,簡介\r\n",
        "#@markdown 3. 豆瓣搜索原名==>評分,分類,IMDb鏈接\r\n",
        "#@markdown 4. IMDb==>評分,英名\r\n",
        "#@markdown 5. 全球票房搜索英名==>票房[必須相符]"
      ],
      "execution_count": null,
      "outputs": []
    }
  ]
}
